{
 "cells": [
  {
   "cell_type": "code",
   "execution_count": 1,
   "id": "e45da0b4-6719-4605-9f76-9eca62c181a1",
   "metadata": {
    "tags": []
   },
   "outputs": [],
   "source": [
    "import pandas as pd\n",
    "import numpy as np"
   ]
  },
  {
   "cell_type": "code",
   "execution_count": 2,
   "id": "66df11fa-c7a8-475b-b3d4-b05ddc80418d",
   "metadata": {
    "tags": []
   },
   "outputs": [],
   "source": [
    "train_data = pd.read_pickle(\"train_engineered.pkl\")"
   ]
  },
  {
   "cell_type": "code",
   "execution_count": 3,
   "id": "fb3b7aec-00dc-4410-a7cf-5f0d9b4a291e",
   "metadata": {
    "tags": []
   },
   "outputs": [],
   "source": [
    "test_data = pd.read_pickle(\"test_engineered.pkl\")"
   ]
  },
  {
   "cell_type": "code",
   "execution_count": 4,
   "id": "a08565ae-15c7-4780-b07a-b2d65d188e4a",
   "metadata": {
    "tags": []
   },
   "outputs": [],
   "source": [
    "from sklearn.metrics import ConfusionMatrixDisplay,classification_report"
   ]
  },
  {
   "cell_type": "code",
   "execution_count": 7,
   "id": "36d3ca4d-b80c-4ef6-96e8-3d5db201af4c",
   "metadata": {
    "tags": []
   },
   "outputs": [],
   "source": [
    "from sklearn.model_selection import train_test_split,StratifiedKFold,cross_val_score"
   ]
  },
  {
   "cell_type": "code",
   "execution_count": 20,
   "id": "d01463e7-5df1-45e6-8a03-41ab9666f878",
   "metadata": {
    "tags": []
   },
   "outputs": [],
   "source": [
    "from sklearn.metrics import accuracy_score,roc_auc_score,average_precision_score,f1_score"
   ]
  },
  {
   "cell_type": "code",
   "execution_count": 8,
   "id": "692d8821-d31b-4cc8-9cd2-494e14d57bf8",
   "metadata": {
    "tags": []
   },
   "outputs": [],
   "source": [
    "def model_results(X_train, y_train, X_test, y_test, model):\n",
    "    # Fit the training model to the training set\n",
    "    model.fit(X_train, y_train)\n",
    "    \n",
    "    # Obtain the predicted values and probabilities from the model \n",
    "    predicted = model.predict(X_test)\n",
    "    probs = model.predict_proba(X_test)\n",
    "    \n",
    "    # Print the accuracy and roc_auc_score performance metric\n",
    "    print(\"Accuracy: \", accuracy_score(y_test, predicted))\n",
    "    print(\"AUC: \", roc_auc_score(y_test, probs[:,1]))\n",
    "    print(\"-----\")\n",
    "    # Print the classification report and confusion matrix\n",
    "    print (ConfusionMatrixDisplay.from_predictions(y_test, predicted))\n",
    "    print (classification_report(y_test, predicted))"
   ]
  },
  {
   "cell_type": "markdown",
   "id": "dccc27e1-eeff-4740-8bad-d7e2fe108c76",
   "metadata": {},
   "source": [
    "## Training with missing data"
   ]
  },
  {
   "cell_type": "code",
   "execution_count": 25,
   "id": "604d43bd-0c20-483b-9645-b03950c95fcd",
   "metadata": {
    "tags": []
   },
   "outputs": [],
   "source": [
    "from sklearn.ensemble import RandomForestClassifier,GradientBoostingClassifier"
   ]
  },
  {
   "cell_type": "code",
   "execution_count": 10,
   "id": "21dc48e7-7897-40db-bc8c-333dc24bc09a",
   "metadata": {
    "tags": []
   },
   "outputs": [],
   "source": [
    "X = train_data.drop('isFraud',axis=1)"
   ]
  },
  {
   "cell_type": "code",
   "execution_count": 11,
   "id": "533d3bd4-6e01-4400-b3ab-0ec0d898e227",
   "metadata": {
    "tags": []
   },
   "outputs": [],
   "source": [
    "y = train_data['isFraud']"
   ]
  },
  {
   "cell_type": "code",
   "execution_count": 12,
   "id": "a2ff6b56-55e4-4d6a-b155-6ca93e9c3d13",
   "metadata": {
    "tags": []
   },
   "outputs": [],
   "source": [
    "X_train, X_test, y_train, y_test = train_test_split(X,y, test_size=0.2, random_state=101)"
   ]
  },
  {
   "cell_type": "code",
   "execution_count": 13,
   "id": "a73059b9-e795-4209-a40a-469b735647ac",
   "metadata": {
    "tags": []
   },
   "outputs": [],
   "source": [
    "random_forest = RandomForestClassifier(random_state=42)"
   ]
  },
  {
   "cell_type": "code",
   "execution_count": 14,
   "id": "300b4ddb-b9c2-46cb-9c50-37b509c432c6",
   "metadata": {},
   "outputs": [
    {
     "name": "stdout",
     "output_type": "stream",
     "text": [
      "Accuracy:  0.9801622244047821\n",
      "AUC:  0.9376630103583324\n",
      "-----\n",
      "<sklearn.metrics._plot.confusion_matrix.ConfusionMatrixDisplay object at 0x7f979a530730>\n",
      "              precision    recall  f1-score   support\n",
      "\n",
      "           0       0.98      1.00      0.99    113957\n",
      "           1       0.95      0.46      0.62      4151\n",
      "\n",
      "    accuracy                           0.98    118108\n",
      "   macro avg       0.97      0.73      0.80    118108\n",
      "weighted avg       0.98      0.98      0.98    118108\n",
      "\n"
     ]
    },
    {
     "data": {
      "image/png": "[encoded data removed]",
      "text/plain": [
       "<Figure size 640x480 with 2 Axes>"
      ]
     },
     "metadata": {},
     "output_type": "display_data"
    }
   ],
   "source": [
    "model_results(X_train, y_train, X_test, y_test,random_forest)"
   ]
  },
  {
   "cell_type": "code",
   "execution_count": 16,
   "id": "0b14151f-5d03-47fb-81ff-a7375a2a50f8",
   "metadata": {},
   "outputs": [],
   "source": [
    "rf = RandomForestClassifier(n_estimators=100,class_weight='balanced',random_state=101,n_jobs=-1)"
   ]
  },
  {
   "cell_type": "code",
   "execution_count": 23,
   "id": "d7d471f3-7255-4824-8185-4d56ed34893d",
   "metadata": {
    "tags": []
   },
   "outputs": [],
   "source": [
    "def stratified_kfold_results(X, y, model, n_splits=5):\n",
    "    \n",
    "    skf = StratifiedKFold(n_splits=n_splits, shuffle=True, random_state=42)\n",
    "    \n",
    "    accuracies = []\n",
    "    aucs = []\n",
    "    f1_scores = []\n",
    "    pr_auc_scores = []\n",
    "    \n",
    "    fold = 1\n",
    "    for train_index, val_index in skf.split(X, y):\n",
    "        X_train_fold, X_val_fold = X.iloc[train_index], X.iloc[val_index]\n",
    "        y_train_fold, y_val_fold = y.iloc[train_index], y.iloc[val_index]\n",
    "        \n",
    "        model.fit(X_train_fold, y_train_fold)\n",
    "        preds = model.predict(X_val_fold)\n",
    "        probs = model.predict_proba(X_val_fold)[:, 1]\n",
    "        \n",
    "        acc = accuracy_score(y_val_fold, preds)\n",
    "        auc = roc_auc_score(y_val_fold, probs)\n",
    "        f1 = f1_score(y_val_fold, preds)\n",
    "        pr_auc = average_precision_score(y_val_fold,probs)\n",
    "        \n",
    "        accuracies.append(acc)\n",
    "        aucs.append(auc)\n",
    "        f1_scores.append(f1)\n",
    "        pr_auc_scores.append(pr_auc)\n",
    "\n",
    "        print(f\"--- Fold {fold} ---\")\n",
    "        print(f\"Accuracy: {acc:.4f}\")\n",
    "        print(f\"ROC-AUC:  {auc:.4f}\")\n",
    "        print(f\"F1-score: {f1:.4f}\")\n",
    "        print(f\"PR-AUC: {pr_auc:.4f}\")\n",
    "        print(classification_report(y_val_fold, preds))\n",
    "        fold += 1\n",
    "\n",
    "    print(\"========== AVERAGED METRICS ==========\")\n",
    "    print(f\"Mean Accuracy: {np.mean(accuracies):.4f}\")\n",
    "    print(f\"Mean ROC-AUC:  {np.mean(aucs):.4f}\")\n",
    "    print(f\"Mean F1-score: {np.mean(f1_scores):.4f}\")\n",
    "    print(f\"Mean PR_AUC_score: {np.mean(pr_auc_scores):.4f}\")\n"
   ]
  },
  {
   "cell_type": "code",
   "execution_count": 24,
   "id": "e2306dd9-9874-455e-ab47-456e06f1c499",
   "metadata": {
    "tags": []
   },
   "outputs": [
    {
     "name": "stdout",
     "output_type": "stream",
     "text": [
      "--- Fold 1 ---\n",
      "Accuracy: 0.9788\n",
      "ROC-AUC:  0.9395\n",
      "F1-score: 0.5729\n",
      "PR-AUC: 0.7401\n",
      "              precision    recall  f1-score   support\n",
      "\n",
      "           0       0.98      1.00      0.99     91184\n",
      "           1       0.97      0.41      0.57      3303\n",
      "\n",
      "    accuracy                           0.98     94487\n",
      "   macro avg       0.97      0.70      0.78     94487\n",
      "weighted avg       0.98      0.98      0.97     94487\n",
      "\n",
      "--- Fold 2 ---\n",
      "Accuracy: 0.9792\n",
      "ROC-AUC:  0.9351\n",
      "F1-score: 0.5851\n",
      "PR-AUC: 0.7395\n",
      "              precision    recall  f1-score   support\n",
      "\n",
      "           0       0.98      1.00      0.99     91184\n",
      "           1       0.97      0.42      0.59      3303\n",
      "\n",
      "    accuracy                           0.98     94487\n",
      "   macro avg       0.98      0.71      0.79     94487\n",
      "weighted avg       0.98      0.98      0.98     94487\n",
      "\n",
      "--- Fold 3 ---\n",
      "Accuracy: 0.9786\n",
      "ROC-AUC:  0.9331\n",
      "F1-score: 0.5689\n",
      "PR-AUC: 0.7339\n",
      "              precision    recall  f1-score   support\n",
      "\n",
      "           0       0.98      1.00      0.99     91184\n",
      "           1       0.96      0.40      0.57      3302\n",
      "\n",
      "    accuracy                           0.98     94486\n",
      "   macro avg       0.97      0.70      0.78     94486\n",
      "weighted avg       0.98      0.98      0.97     94486\n",
      "\n",
      "--- Fold 4 ---\n",
      "Accuracy: 0.9783\n",
      "ROC-AUC:  0.9340\n",
      "F1-score: 0.5594\n",
      "PR-AUC: 0.7329\n",
      "              precision    recall  f1-score   support\n",
      "\n",
      "           0       0.98      1.00      0.99     91184\n",
      "           1       0.96      0.39      0.56      3302\n",
      "\n",
      "    accuracy                           0.98     94486\n",
      "   macro avg       0.97      0.70      0.77     94486\n",
      "weighted avg       0.98      0.98      0.97     94486\n",
      "\n",
      "--- Fold 5 ---\n",
      "Accuracy: 0.9786\n",
      "ROC-AUC:  0.9392\n",
      "F1-score: 0.5677\n",
      "PR-AUC: 0.7372\n",
      "              precision    recall  f1-score   support\n",
      "\n",
      "           0       0.98      1.00      0.99     91184\n",
      "           1       0.96      0.40      0.57      3302\n",
      "\n",
      "    accuracy                           0.98     94486\n",
      "   macro avg       0.97      0.70      0.78     94486\n",
      "weighted avg       0.98      0.98      0.97     94486\n",
      "\n",
      "========== AVERAGED METRICS ==========\n",
      "Mean Accuracy: 0.9787\n",
      "Mean ROC-AUC:  0.9362\n",
      "Mean F1-score: 0.5708\n",
      "Mean PR_AUC_score: 0.7367\n"
     ]
    }
   ],
   "source": [
    "stratified_kfold_results(X_train,y_train,rf,n_splits=5)"
   ]
  },
  {
   "cell_type": "code",
   "execution_count": 28,
   "id": "735e12b9-3728-494f-a72b-d30afbb85fd0",
   "metadata": {
    "tags": []
   },
   "outputs": [],
   "source": [
    "from xgboost import XGBClassifier"
   ]
  },
  {
   "cell_type": "code",
   "execution_count": 29,
   "id": "5c9038e3-a7b9-4ad0-ab3d-d2e3dbe4873e",
   "metadata": {
    "tags": []
   },
   "outputs": [],
   "source": [
    "xg = XGBClassifier(n_estimators=128, max_depth=2, learning_rate=1, objective='binary:logistic',random_state=101)"
   ]
  },
  {
   "cell_type": "code",
   "execution_count": 30,
   "id": "3168b6d4-007c-40bc-8894-fb3292718bbc",
   "metadata": {
    "tags": []
   },
   "outputs": [
    {
     "name": "stdout",
     "output_type": "stream",
     "text": [
      "Accuracy:  0.9749805262979646\n",
      "AUC:  0.8800885987190809\n",
      "-----\n",
      "<sklearn.metrics._plot.confusion_matrix.ConfusionMatrixDisplay object at 0x7f980deec6d0>\n",
      "              precision    recall  f1-score   support\n",
      "\n",
      "           0       0.98      1.00      0.99    113957\n",
      "           1       0.82      0.37      0.51      4151\n",
      "\n",
      "    accuracy                           0.97    118108\n",
      "   macro avg       0.90      0.68      0.75    118108\n",
      "weighted avg       0.97      0.97      0.97    118108\n",
      "\n"
     ]
    },
    {
     "data": {
      "image/png": "[encoded data removed]",
      "text/plain": [
       "<Figure size 640x480 with 2 Axes>"
      ]
     },
     "metadata": {},
     "output_type": "display_data"
    }
   ],
   "source": [
    "model_results(X_train, y_train, X_test, y_test,xg)"
   ]
  },
  {
   "cell_type": "code",
   "execution_count": 32,
   "id": "050f77e9-2469-431c-80ec-359ce021c587",
   "metadata": {
    "tags": []
   },
   "outputs": [],
   "source": [
    "neg_count = y.value_counts()[0] \n",
    "pos_count = y.value_counts()[1] \n",
    "scale_pos_weight_value = neg_count / pos_count "
   ]
  },
  {
   "cell_type": "code",
   "execution_count": 33,
   "id": "b8ae921f-0ded-42c2-8694-652d857a5369",
   "metadata": {
    "tags": []
   },
   "outputs": [
    {
     "name": "stderr",
     "output_type": "stream",
     "text": [
      "/opt/conda/envs/sagemaker-distribution/lib/python3.10/site-packages/xgboost/sklearn.py:1395: UserWarning: `use_label_encoder` is deprecated in 1.7.0.\n",
      "  warnings.warn(\"`use_label_encoder` is deprecated in 1.7.0.\")\n"
     ]
    }
   ],
   "source": [
    "XGB_model = XGBClassifier(n_estimators=200, \n",
    "                          max_depth=5, \n",
    "                          learning_rate=0.1, \n",
    "                          objective='binary:logistic',\n",
    "                          subsample=0.8,\n",
    "                          colsample_bytree=0.8,\n",
    "                          gamma=0.1,\n",
    "                          n_jobs=-1,\n",
    "                          use_label_encoder=False,\n",
    "                          eval_metric='logloss',\n",
    "                          scale_pos_weight=scale_pos_weight_value,\n",
    "                          random_state=101)"
   ]
  },
  {
   "cell_type": "code",
   "execution_count": 34,
   "id": "c5cfa1ef-ddaf-4166-b665-b187227f22ed",
   "metadata": {
    "tags": []
   },
   "outputs": [
    {
     "name": "stdout",
     "output_type": "stream",
     "text": [
      "--- Fold 1 ---\n",
      "Accuracy: 0.8864\n",
      "ROC-AUC:  0.9248\n",
      "F1-score: 0.3295\n",
      "PR-AUC: 0.6116\n",
      "              precision    recall  f1-score   support\n",
      "\n",
      "           0       0.99      0.89      0.94    113976\n",
      "           1       0.21      0.80      0.33      4132\n",
      "\n",
      "    accuracy                           0.89    118108\n",
      "   macro avg       0.60      0.84      0.63    118108\n",
      "weighted avg       0.96      0.89      0.92    118108\n",
      "\n",
      "--- Fold 2 ---\n",
      "Accuracy: 0.8865\n",
      "ROC-AUC:  0.9270\n",
      "F1-score: 0.3342\n",
      "PR-AUC: 0.6174\n",
      "              precision    recall  f1-score   support\n",
      "\n",
      "           0       0.99      0.89      0.94    113976\n",
      "           1       0.21      0.81      0.33      4132\n",
      "\n",
      "    accuracy                           0.89    118108\n",
      "   macro avg       0.60      0.85      0.64    118108\n",
      "weighted avg       0.97      0.89      0.92    118108\n",
      "\n",
      "--- Fold 3 ---\n",
      "Accuracy: 0.8884\n",
      "ROC-AUC:  0.9240\n",
      "F1-score: 0.3338\n",
      "PR-AUC: 0.6147\n",
      "              precision    recall  f1-score   support\n",
      "\n",
      "           0       0.99      0.89      0.94    113975\n",
      "           1       0.21      0.80      0.33      4133\n",
      "\n",
      "    accuracy                           0.89    118108\n",
      "   macro avg       0.60      0.85      0.64    118108\n",
      "weighted avg       0.96      0.89      0.92    118108\n",
      "\n",
      "--- Fold 4 ---\n",
      "Accuracy: 0.8869\n",
      "ROC-AUC:  0.9233\n",
      "F1-score: 0.3303\n",
      "PR-AUC: 0.6016\n",
      "              precision    recall  f1-score   support\n",
      "\n",
      "           0       0.99      0.89      0.94    113975\n",
      "           1       0.21      0.80      0.33      4133\n",
      "\n",
      "    accuracy                           0.89    118108\n",
      "   macro avg       0.60      0.84      0.63    118108\n",
      "weighted avg       0.96      0.89      0.92    118108\n",
      "\n",
      "--- Fold 5 ---\n",
      "Accuracy: 0.8917\n",
      "ROC-AUC:  0.9261\n",
      "F1-score: 0.3417\n",
      "PR-AUC: 0.6041\n",
      "              precision    recall  f1-score   support\n",
      "\n",
      "           0       0.99      0.89      0.94    113975\n",
      "           1       0.22      0.80      0.34      4133\n",
      "\n",
      "    accuracy                           0.89    118108\n",
      "   macro avg       0.60      0.85      0.64    118108\n",
      "weighted avg       0.96      0.89      0.92    118108\n",
      "\n",
      "========== AVERAGED METRICS ==========\n",
      "Mean Accuracy: 0.8880\n",
      "Mean ROC-AUC:  0.9251\n",
      "Mean F1-score: 0.3339\n",
      "Mean PR_AUC_score: 0.6099\n"
     ]
    }
   ],
   "source": [
    "stratified_kfold_results(X, y, XGB_model, n_splits=5)"
   ]
  },
  {
   "cell_type": "code",
   "execution_count": 35,
   "id": "7c1ce81d-1a92-49ef-b1cd-292cd826f9ee",
   "metadata": {
    "tags": []
   },
   "outputs": [
    {
     "name": "stderr",
     "output_type": "stream",
     "text": [
      "/opt/conda/envs/sagemaker-distribution/lib/python3.10/site-packages/dask/dataframe/__init__.py:31: FutureWarning: \n",
      "Dask dataframe query planning is disabled because dask-expr is not installed.\n",
      "\n",
      "You can install it with `pip install dask[dataframe]` or `conda install dask`.\n",
      "This will raise in a future version.\n",
      "\n",
      "  warnings.warn(msg, FutureWarning)\n"
     ]
    }
   ],
   "source": [
    "import lightgbm as lgb"
   ]
  },
  {
   "cell_type": "code",
   "execution_count": 47,
   "id": "d6e518c3-2cbc-42bf-9078-898aac6ce8f4",
   "metadata": {
    "tags": []
   },
   "outputs": [],
   "source": [
    "def clean_column_names(df):\n",
    "    df.columns = df.columns.str.replace('[^A-Za-z0-9_]', '_', regex=True)\n",
    "    return df"
   ]
  },
  {
   "cell_type": "code",
   "execution_count": 37,
   "id": "ebeeb149-8ff6-47a1-a991-f719479f8ee8",
   "metadata": {
    "tags": []
   },
   "outputs": [],
   "source": [
    "lgb_model = lgb.LGBMClassifier(objective='binary',n_estimators=128,learning_rate=0.1,num_leaves=31,is_unbalance=True)"
   ]
  },
  {
   "cell_type": "code",
   "execution_count": 50,
   "id": "760baaef-4a8a-40b1-9440-6ba027b48a9e",
   "metadata": {
    "tags": []
   },
   "outputs": [],
   "source": [
    "X_cleaned = clean_column_names(train_data)"
   ]
  },
  {
   "cell_type": "code",
   "execution_count": 51,
   "id": "2b0bdfbf-c45b-4f5b-b9eb-98aeea7f3e74",
   "metadata": {
    "tags": []
   },
   "outputs": [
    {
     "name": "stdout",
     "output_type": "stream",
     "text": [
      "['TransactionID', 'TransactionAmt', 'card1', 'card2', 'card3', 'card5', 'addr1', 'addr2', 'dist1', 'dist2', 'C1', 'C3', 'C5', 'D1', 'D3', 'D4', 'D5', 'D8', 'D9', 'D10', 'D11', 'D13', 'D14', 'D15', 'M1', 'M2', 'M3', 'M4', 'M5', 'M6', 'M7', 'M8', 'M9', 'V1', 'V2', 'V3', 'V4', 'V6', 'V7', 'V8', 'V10', 'V12', 'V14', 'V15', 'V19', 'V23', 'V25', 'V27', 'V35', 'V37', 'V44', 'V46', 'V47', 'V53', 'V55', 'V56', 'V61', 'V66', 'V75', 'V77', 'V78', 'V82', 'V86', 'V95', 'V98', 'V99', 'V104', 'V107', 'V108', 'V109', 'V111', 'V112', 'V114', 'V115', 'V117', 'V118', 'V120', 'V121', 'V122', 'V123', 'V124', 'V129', 'V130', 'V131', 'V135', 'V136', 'V138', 'V139', 'V141', 'V144', 'V146', 'V148', 'V161', 'V166', 'V169', 'V170', 'V171', 'V172', 'V173', 'V174', 'V175', 'V176', 'V184', 'V187', 'V188', 'V194', 'V205', 'V208', 'V209', 'V210', 'V214', 'V215', 'V220', 'V221', 'V223', 'V224', 'V226', 'V227', 'V238', 'V240', 'V241', 'V250', 'V260', 'V270', 'V281', 'V282', 'V283', 'V284', 'V286', 'V288', 'V290', 'V291', 'V300', 'V305', 'V313', 'V314', 'id_01', 'id_02', 'id_03', 'id_04', 'id_05', 'id_06', 'id_07', 'id_08', 'id_09', 'id_10', 'id_11', 'id_13', 'id_14', 'id_17', 'id_18', 'id_19', 'id_20', 'id_21', 'id_22', 'id_24', 'id_25', 'id_26', 'id_32', 'id_34', 'TransactionAmt_log', 'Transaction_hours', 'Transaction_day', 'P_emaildomain_val', 'R_emaildomain_val', 'id_30_val', 'id_31_val', 'id_33_val', 'card4_american_express', 'card4_discover', 'card4_mastercard', 'card4_missing', 'card4_visa', 'card6_charge_card', 'card6_credit', 'card6_debit', 'card6_debit_or_credit', 'card6_missing', 'DeviceType_desktop', 'DeviceType_missing', 'DeviceType_mobile', 'id_12_Found', 'id_12_NotFound', 'id_12_missing', 'id_15_Found', 'id_15_New', 'id_15_Unknown', 'id_15_missing', 'id_16_Found', 'id_16_NotFound', 'id_16_missing', 'id_27_Found', 'id_27_NotFound', 'id_27_missing', 'id_28_Found', 'id_28_New', 'id_28_missing', 'id_29_Found', 'id_29_NotFound', 'id_29_missing', 'id_35_F', 'id_35_T', 'id_35_missing', 'id_36_F', 'id_36_T', 'id_36_missing', 'id_37_F', 'id_37_T', 'id_37_missing', 'id_38_F', 'id_38_T', 'id_38_missing', 'id_23_IP_PROXY_ANONYMOUS', 'id_23_IP_PROXY_HIDDEN', 'id_23_IP_PROXY_TRANSPARENT', 'id_23_missing', 'ProductCD_C', 'ProductCD_H', 'ProductCD_R', 'ProductCD_S', 'ProductCD_W', 'isFraud']\n"
     ]
    }
   ],
   "source": [
    "print(X_cleaned.columns.to_list())"
   ]
  },
  {
   "cell_type": "code",
   "execution_count": 52,
   "id": "d5b66b58-5e85-496a-8c4a-2a85cbff3348",
   "metadata": {
    "tags": []
   },
   "outputs": [],
   "source": [
    "X_1 = X_cleaned.drop('isFraud',axis=1)"
   ]
  },
  {
   "cell_type": "code",
   "execution_count": 53,
   "id": "28a154c3-da1a-4106-adb9-ab3ac1860f2a",
   "metadata": {
    "tags": []
   },
   "outputs": [],
   "source": [
    "y_1 = X_cleaned['isFraud']"
   ]
  },
  {
   "cell_type": "code",
   "execution_count": 54,
   "id": "5d92104f-347d-452b-97fe-ed265a93db23",
   "metadata": {
    "tags": []
   },
   "outputs": [],
   "source": [
    "X_train_cleaned, X_test_cleaned, y_train_cleaned, y_test_cleaned = train_test_split(X_1,y_1,test_size=0.2, random_state=101)"
   ]
  },
  {
   "cell_type": "code",
   "execution_count": 55,
   "id": "fed894c5-aa02-427e-af2a-eea743ae4bca",
   "metadata": {
    "tags": []
   },
   "outputs": [
    {
     "name": "stdout",
     "output_type": "stream",
     "text": [
      "Accuracy:  0.8841060724083043\n",
      "AUC:  0.9302188334458369\n",
      "-----\n",
      "<sklearn.metrics._plot.confusion_matrix.ConfusionMatrixDisplay object at 0x7f97419661d0>\n",
      "              precision    recall  f1-score   support\n",
      "\n",
      "           0       0.99      0.89      0.94    113957\n",
      "           1       0.21      0.81      0.33      4151\n",
      "\n",
      "    accuracy                           0.88    118108\n",
      "   macro avg       0.60      0.85      0.63    118108\n",
      "weighted avg       0.96      0.88      0.92    118108\n",
      "\n"
     ]
    },
    {
     "data": {
      "image/png": "[encoded data removed]",
      "text/plain": [
       "<Figure size 640x480 with 2 Axes>"
      ]
     },
     "metadata": {},
     "output_type": "display_data"
    }
   ],
   "source": [
    "model_results(X_train_cleaned, y_train_cleaned, X_test_cleaned, y_test_cleaned,lgb_model)"
   ]
  },
  {
   "cell_type": "code",
   "execution_count": 56,
   "id": "40c36cf8-d334-474a-ba04-0181e2f2b7aa",
   "metadata": {
    "tags": []
   },
   "outputs": [],
   "source": [
    "lgb_model_kfold = lgb.LGBMClassifier(objective='binary',n_estimators=128,learning_rate=0.1,num_leaves=31,is_unbalance=True,max_depth=6)"
   ]
  },
  {
   "cell_type": "code",
   "execution_count": 57,
   "id": "df788183-9fff-42af-a879-599444da21d5",
   "metadata": {
    "tags": []
   },
   "outputs": [
    {
     "name": "stdout",
     "output_type": "stream",
     "text": [
      "--- Fold 1 ---\n",
      "Accuracy: 0.8770\n",
      "ROC-AUC:  0.9177\n",
      "F1-score: 0.3115\n",
      "PR-AUC: 0.5931\n",
      "              precision    recall  f1-score   support\n",
      "\n",
      "           0       0.99      0.88      0.93    113976\n",
      "           1       0.19      0.80      0.31      4132\n",
      "\n",
      "    accuracy                           0.88    118108\n",
      "   macro avg       0.59      0.84      0.62    118108\n",
      "weighted avg       0.96      0.88      0.91    118108\n",
      "\n",
      "--- Fold 2 ---\n",
      "Accuracy: 0.8776\n",
      "ROC-AUC:  0.9197\n",
      "F1-score: 0.3152\n",
      "PR-AUC: 0.5922\n",
      "              precision    recall  f1-score   support\n",
      "\n",
      "           0       0.99      0.88      0.93    113976\n",
      "           1       0.20      0.80      0.32      4132\n",
      "\n",
      "    accuracy                           0.88    118108\n",
      "   macro avg       0.59      0.84      0.62    118108\n",
      "weighted avg       0.96      0.88      0.91    118108\n",
      "\n",
      "--- Fold 3 ---\n",
      "Accuracy: 0.8780\n",
      "ROC-AUC:  0.9172\n",
      "F1-score: 0.3122\n",
      "PR-AUC: 0.5945\n",
      "              precision    recall  f1-score   support\n",
      "\n",
      "           0       0.99      0.88      0.93    113975\n",
      "           1       0.19      0.79      0.31      4133\n",
      "\n",
      "    accuracy                           0.88    118108\n",
      "   macro avg       0.59      0.84      0.62    118108\n",
      "weighted avg       0.96      0.88      0.91    118108\n",
      "\n",
      "--- Fold 4 ---\n",
      "Accuracy: 0.8733\n",
      "ROC-AUC:  0.9157\n",
      "F1-score: 0.3046\n",
      "PR-AUC: 0.5825\n",
      "              precision    recall  f1-score   support\n",
      "\n",
      "           0       0.99      0.88      0.93    113975\n",
      "           1       0.19      0.79      0.30      4133\n",
      "\n",
      "    accuracy                           0.87    118108\n",
      "   macro avg       0.59      0.83      0.62    118108\n",
      "weighted avg       0.96      0.87      0.91    118108\n",
      "\n",
      "--- Fold 5 ---\n",
      "Accuracy: 0.8840\n",
      "ROC-AUC:  0.9181\n",
      "F1-score: 0.3211\n",
      "PR-AUC: 0.5882\n",
      "              precision    recall  f1-score   support\n",
      "\n",
      "           0       0.99      0.89      0.94    113975\n",
      "           1       0.20      0.78      0.32      4133\n",
      "\n",
      "    accuracy                           0.88    118108\n",
      "   macro avg       0.60      0.84      0.63    118108\n",
      "weighted avg       0.96      0.88      0.92    118108\n",
      "\n",
      "========== AVERAGED METRICS ==========\n",
      "Mean Accuracy: 0.8780\n",
      "Mean ROC-AUC:  0.9177\n",
      "Mean F1-score: 0.3129\n",
      "Mean PR_AUC_score: 0.5901\n"
     ]
    }
   ],
   "source": [
    "stratified_kfold_results(X_1, y_1, lgb_model_kfold, n_splits=5)"
   ]
  },
  {
   "cell_type": "code",
   "execution_count": null,
   "id": "226a3fad-8eb2-4986-9ff4-29f1ac73031d",
   "metadata": {},
   "outputs": [],
   "source": []
  }
 ],
 "metadata": {
  "kernelspec": {
   "display_name": "sagemaker-distribution:Python",
   "language": "python",
   "name": "conda-env-sagemaker-distribution-py"
  },
  "language_info": {
   "codemirror_mode": {
    "name": "ipython",
    "version": 3
   },
   "file_extension": ".py",
   "mimetype": "text/x-python",
   "name": "python",
   "nbconvert_exporter": "python",
   "pygments_lexer": "ipython3",
   "version": "3.10.14"
  }
 },
 "nbformat": 4,
 "nbformat_minor": 5
}
