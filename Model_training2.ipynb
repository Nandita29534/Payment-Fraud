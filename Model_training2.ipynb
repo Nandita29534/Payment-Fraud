{
 "cells": [
  {
   "cell_type": "code",
   "execution_count": 1,
   "id": "da7abf56-524e-4fc8-896d-27b13abf6ca3",
   "metadata": {
    "tags": []
   },
   "outputs": [],
   "source": [
    "import pandas as pd\n",
    "import numpy as np"
   ]
  },
  {
   "cell_type": "code",
   "execution_count": 6,
   "id": "3e8df240-daa6-4c18-af25-290b1ec50e90",
   "metadata": {
    "tags": []
   },
   "outputs": [],
   "source": [
    "from sklearn.impute import SimpleImputer\n",
    "from sklearn.preprocessing import StandardScaler"
   ]
  },
  {
   "cell_type": "code",
   "execution_count": 9,
   "id": "c775a3bb-b54c-4495-8070-d222b817977c",
   "metadata": {
    "tags": []
   },
   "outputs": [],
   "source": [
    "import pickle"
   ]
  },
  {
   "cell_type": "code",
   "execution_count": 2,
   "id": "69be254c-5b4b-4036-a53f-c810b3eebd1d",
   "metadata": {
    "tags": []
   },
   "outputs": [],
   "source": [
    "train_data = pd.read_pickle(\"train_engineered.pkl\")"
   ]
  },
  {
   "cell_type": "code",
   "execution_count": 3,
   "id": "86b13e88-c9e3-4660-80d5-80a707fab12c",
   "metadata": {
    "tags": []
   },
   "outputs": [],
   "source": [
    "test_data = pd.read_pickle(\"test_engineered.pkl\")"
   ]
  },
  {
   "cell_type": "code",
   "execution_count": 5,
   "id": "fd87c1a0-4278-41b6-865a-3df119808424",
   "metadata": {
    "tags": []
   },
   "outputs": [
    {
     "name": "stdout",
     "output_type": "stream",
     "text": [
      "TransactionID                 0.000000\n",
      "TransactionAmt                0.000000\n",
      "card1                         0.000000\n",
      "card2                         0.015127\n",
      "card3                         0.002650\n",
      "card5                         0.007212\n",
      "addr1                         0.111264\n",
      "addr2                         0.111264\n",
      "dist1                         0.596524\n",
      "dist2                         0.936284\n",
      "C1                            0.000000\n",
      "C3                            0.000000\n",
      "C5                            0.000000\n",
      "D1                            0.002149\n",
      "D3                            0.445149\n",
      "D4                            0.286047\n",
      "D5                            0.524674\n",
      "D8                            0.873123\n",
      "D9                            0.873123\n",
      "D10                           0.128733\n",
      "D11                           0.472935\n",
      "D13                           0.895093\n",
      "D14                           0.894695\n",
      "D15                           0.150901\n",
      "M1                            0.459071\n",
      "M2                            0.459071\n",
      "M3                            0.459071\n",
      "M4                            0.476588\n",
      "M5                            0.593494\n",
      "M6                            0.286788\n",
      "M7                            0.586353\n",
      "M8                            0.586331\n",
      "M9                            0.586331\n",
      "V1                            0.472935\n",
      "V2                            0.472935\n",
      "V3                            0.472935\n",
      "V4                            0.472935\n",
      "V6                            0.472935\n",
      "V7                            0.472935\n",
      "V8                            0.472935\n",
      "V10                           0.472935\n",
      "V12                           0.128819\n",
      "V14                           0.128819\n",
      "V15                           0.128819\n",
      "V19                           0.128819\n",
      "V23                           0.128819\n",
      "V25                           0.128819\n",
      "V27                           0.128819\n",
      "V35                           0.286126\n",
      "V37                           0.286126\n",
      "V44                           0.286126\n",
      "V46                           0.286126\n",
      "V47                           0.286126\n",
      "V53                           0.130552\n",
      "V55                           0.130552\n",
      "V56                           0.130552\n",
      "V61                           0.130552\n",
      "V66                           0.130552\n",
      "V75                           0.150987\n",
      "V77                           0.150987\n",
      "V78                           0.150987\n",
      "V82                           0.150987\n",
      "V86                           0.150987\n",
      "V95                           0.000532\n",
      "V98                           0.000532\n",
      "V99                           0.000532\n",
      "V104                          0.000532\n",
      "V107                          0.000532\n",
      "V108                          0.000532\n",
      "V109                          0.000532\n",
      "V111                          0.000532\n",
      "V112                          0.000532\n",
      "V114                          0.000532\n",
      "V115                          0.000532\n",
      "V117                          0.000532\n",
      "V118                          0.000532\n",
      "V120                          0.000532\n",
      "V121                          0.000532\n",
      "V122                          0.000532\n",
      "V123                          0.000532\n",
      "V124                          0.000532\n",
      "V129                          0.000532\n",
      "V130                          0.000532\n",
      "V131                          0.000532\n",
      "V135                          0.000532\n",
      "V136                          0.000532\n",
      "V138                          0.861237\n",
      "V139                          0.861237\n",
      "V141                          0.861237\n",
      "V144                          0.861227\n",
      "V146                          0.861237\n",
      "V148                          0.861237\n",
      "V161                          0.861237\n",
      "V166                          0.861227\n",
      "V169                          0.763235\n",
      "V170                          0.763235\n",
      "V171                          0.763235\n",
      "V172                          0.763554\n",
      "V173                          0.763554\n",
      "V174                          0.763235\n",
      "V175                          0.763235\n",
      "V176                          0.763554\n",
      "V184                          0.763235\n",
      "V187                          0.763554\n",
      "V188                          0.763235\n",
      "V194                          0.763235\n",
      "V205                          0.763554\n",
      "V208                          0.763235\n",
      "V209                          0.763235\n",
      "V210                          0.763235\n",
      "V214                          0.763554\n",
      "V215                          0.763554\n",
      "V220                          0.760531\n",
      "V221                          0.760531\n",
      "V223                          0.779134\n",
      "V224                          0.779134\n",
      "V226                          0.779134\n",
      "V227                          0.760531\n",
      "V238                          0.760531\n",
      "V240                          0.779134\n",
      "V241                          0.779134\n",
      "V250                          0.760531\n",
      "V260                          0.779134\n",
      "V270                          0.760531\n",
      "V281                          0.002149\n",
      "V282                          0.002149\n",
      "V283                          0.002149\n",
      "V284                          0.000020\n",
      "V286                          0.000020\n",
      "V288                          0.002149\n",
      "V290                          0.000020\n",
      "V291                          0.000020\n",
      "V300                          0.002149\n",
      "V305                          0.000020\n",
      "V313                          0.002149\n",
      "V314                          0.002149\n",
      "id_01                         0.755761\n",
      "id_02                         0.761452\n",
      "id_03                         0.887689\n",
      "id_04                         0.887689\n",
      "id_05                         0.768238\n",
      "id_06                         0.768238\n",
      "id_07                         0.991271\n",
      "id_08                         0.991271\n",
      "id_09                         0.873123\n",
      "id_10                         0.873123\n",
      "id_11                         0.761273\n",
      "id_13                         0.784401\n",
      "id_14                         0.864456\n",
      "id_17                         0.763997\n",
      "id_18                         0.923607\n",
      "id_19                         0.764084\n",
      "id_20                         0.764180\n",
      "id_21                         0.991264\n",
      "id_22                         0.991247\n",
      "id_24                         0.991962\n",
      "id_25                         0.991310\n",
      "id_26                         0.991257\n",
      "id_32                         0.868619\n",
      "id_34                         0.868248\n",
      "TransactionAmt_log            0.000000\n",
      "Transaction_hours             0.000000\n",
      "Transaction_day               0.000000\n",
      "P_emaildomain_val             0.159949\n",
      "R_emaildomain_val             0.767516\n",
      "id_30_val                     0.868654\n",
      "id_31_val                     0.762451\n",
      "id_33_val                     0.875895\n",
      "card4_american express        0.000000\n",
      "card4_discover                0.000000\n",
      "card4_mastercard              0.000000\n",
      "card4_missing                 0.000000\n",
      "card4_visa                    0.000000\n",
      "card6_charge card             0.000000\n",
      "card6_credit                  0.000000\n",
      "card6_debit                   0.000000\n",
      "card6_debit or credit         0.000000\n",
      "card6_missing                 0.000000\n",
      "DeviceType_desktop            0.000000\n",
      "DeviceType_missing            0.000000\n",
      "DeviceType_mobile             0.000000\n",
      "id_12_Found                   0.000000\n",
      "id_12_NotFound                0.000000\n",
      "id_12_missing                 0.000000\n",
      "id_15_Found                   0.000000\n",
      "id_15_New                     0.000000\n",
      "id_15_Unknown                 0.000000\n",
      "id_15_missing                 0.000000\n",
      "id_16_Found                   0.000000\n",
      "id_16_NotFound                0.000000\n",
      "id_16_missing                 0.000000\n",
      "id_27_Found                   0.000000\n",
      "id_27_NotFound                0.000000\n",
      "id_27_missing                 0.000000\n",
      "id_28_Found                   0.000000\n",
      "id_28_New                     0.000000\n",
      "id_28_missing                 0.000000\n",
      "id_29_Found                   0.000000\n",
      "id_29_NotFound                0.000000\n",
      "id_29_missing                 0.000000\n",
      "id_35_F                       0.000000\n",
      "id_35_T                       0.000000\n",
      "id_35_missing                 0.000000\n",
      "id_36_F                       0.000000\n",
      "id_36_T                       0.000000\n",
      "id_36_missing                 0.000000\n",
      "id_37_F                       0.000000\n",
      "id_37_T                       0.000000\n",
      "id_37_missing                 0.000000\n",
      "id_38_F                       0.000000\n",
      "id_38_T                       0.000000\n",
      "id_38_missing                 0.000000\n",
      "id_23_IP_PROXY:ANONYMOUS      0.000000\n",
      "id_23_IP_PROXY:HIDDEN         0.000000\n",
      "id_23_IP_PROXY:TRANSPARENT    0.000000\n",
      "id_23_missing                 0.000000\n",
      "ProductCD_C                   0.000000\n",
      "ProductCD_H                   0.000000\n",
      "ProductCD_R                   0.000000\n",
      "ProductCD_S                   0.000000\n",
      "ProductCD_W                   0.000000\n",
      "isFraud                       0.000000\n"
     ]
    }
   ],
   "source": [
    "print(train_data.isnull().mean().to_string())"
   ]
  },
  {
   "cell_type": "code",
   "execution_count": 30,
   "id": "ba1c84af-6d0e-4335-a38a-3bc128356376",
   "metadata": {
    "tags": []
   },
   "outputs": [],
   "source": [
    "def preprocess_numeric(df, numeric_cols):\n",
    "    df = df.copy()\n",
    "\n",
    "    # Compute Q1, Q3, IQR\n",
    "    Q1 = df[numeric_cols].quantile(0.25)\n",
    "    Q3 = df[numeric_cols].quantile(0.75)\n",
    "    IQR = Q3 - Q1\n",
    "\n",
    "    # Prepare imputer up-front\n",
    "    imputer = SimpleImputer(strategy='median')\n",
    "    \n",
    "    # Loop per column so we can skip bad IQRs\n",
    "    for col in numeric_cols:\n",
    "        col_q1 = Q1[col]\n",
    "        col_q3 = Q3[col]\n",
    "        col_iqr = IQR[col]\n",
    "\n",
    "        # Skip if IQR is zero or not a number\n",
    "        if pd.isna(col_iqr) or col_iqr == 0:\n",
    "            continue\n",
    "\n",
    "        # Compute bounds\n",
    "        lower = col_q1 - 1.5 * col_iqr\n",
    "        upper = col_q3 + 1.5 * col_iqr\n",
    "\n",
    "        # Cap (clip) that column\n",
    "        df[col] = df[col].clip(lower=lower, upper=upper)\n",
    "\n",
    "    # After capping all valid cols, impute\n",
    "    df[numeric_cols] = imputer.fit_transform(df[numeric_cols])\n",
    "\n",
    "    return df\n",
    "\n"
   ]
  },
  {
   "cell_type": "code",
   "execution_count": 14,
   "id": "c4762394-594a-41cc-a9c2-f1e357301ab4",
   "metadata": {
    "tags": []
   },
   "outputs": [],
   "source": [
    "list_of_columns = ['card2','card3','card5','addr','dist','^C','^(D[0-9])','^V','id']"
   ]
  },
  {
   "cell_type": "code",
   "execution_count": 15,
   "id": "1075d4bc-0236-4077-9dd3-0050aadd0e48",
   "metadata": {
    "tags": []
   },
   "outputs": [],
   "source": [
    "columns_for_process = [train_data.filter(regex=(i)).columns.to_list() for i in list_of_columns]"
   ]
  },
  {
   "cell_type": "code",
   "execution_count": 17,
   "id": "e2534ec5-47a7-45b3-9728-01695f62f3bd",
   "metadata": {
    "tags": []
   },
   "outputs": [
    {
     "data": {
      "text/plain": [
       "[['card2'],\n",
       " ['card3'],\n",
       " ['card5'],\n",
       " ['addr1', 'addr2'],\n",
       " ['dist1', 'dist2'],\n",
       " ['C1', 'C3', 'C5'],\n",
       " ['D1', 'D3', 'D4', 'D5', 'D8', 'D9', 'D10', 'D11', 'D13', 'D14', 'D15'],\n",
       " ['V1',\n",
       "  'V2',\n",
       "  'V3',\n",
       "  'V4',\n",
       "  'V6',\n",
       "  'V7',\n",
       "  'V8',\n",
       "  'V10',\n",
       "  'V12',\n",
       "  'V14',\n",
       "  'V15',\n",
       "  'V19',\n",
       "  'V23',\n",
       "  'V25',\n",
       "  'V27',\n",
       "  'V35',\n",
       "  'V37',\n",
       "  'V44',\n",
       "  'V46',\n",
       "  'V47',\n",
       "  'V53',\n",
       "  'V55',\n",
       "  'V56',\n",
       "  'V61',\n",
       "  'V66',\n",
       "  'V75',\n",
       "  'V77',\n",
       "  'V78',\n",
       "  'V82',\n",
       "  'V86',\n",
       "  'V95',\n",
       "  'V98',\n",
       "  'V99',\n",
       "  'V104',\n",
       "  'V107',\n",
       "  'V108',\n",
       "  'V109',\n",
       "  'V111',\n",
       "  'V112',\n",
       "  'V114',\n",
       "  'V115',\n",
       "  'V117',\n",
       "  'V118',\n",
       "  'V120',\n",
       "  'V121',\n",
       "  'V122',\n",
       "  'V123',\n",
       "  'V124',\n",
       "  'V129',\n",
       "  'V130',\n",
       "  'V131',\n",
       "  'V135',\n",
       "  'V136',\n",
       "  'V138',\n",
       "  'V139',\n",
       "  'V141',\n",
       "  'V144',\n",
       "  'V146',\n",
       "  'V148',\n",
       "  'V161',\n",
       "  'V166',\n",
       "  'V169',\n",
       "  'V170',\n",
       "  'V171',\n",
       "  'V172',\n",
       "  'V173',\n",
       "  'V174',\n",
       "  'V175',\n",
       "  'V176',\n",
       "  'V184',\n",
       "  'V187',\n",
       "  'V188',\n",
       "  'V194',\n",
       "  'V205',\n",
       "  'V208',\n",
       "  'V209',\n",
       "  'V210',\n",
       "  'V214',\n",
       "  'V215',\n",
       "  'V220',\n",
       "  'V221',\n",
       "  'V223',\n",
       "  'V224',\n",
       "  'V226',\n",
       "  'V227',\n",
       "  'V238',\n",
       "  'V240',\n",
       "  'V241',\n",
       "  'V250',\n",
       "  'V260',\n",
       "  'V270',\n",
       "  'V281',\n",
       "  'V282',\n",
       "  'V283',\n",
       "  'V284',\n",
       "  'V286',\n",
       "  'V288',\n",
       "  'V290',\n",
       "  'V291',\n",
       "  'V300',\n",
       "  'V305',\n",
       "  'V313',\n",
       "  'V314'],\n",
       " ['id_01',\n",
       "  'id_02',\n",
       "  'id_03',\n",
       "  'id_04',\n",
       "  'id_05',\n",
       "  'id_06',\n",
       "  'id_07',\n",
       "  'id_08',\n",
       "  'id_09',\n",
       "  'id_10',\n",
       "  'id_11',\n",
       "  'id_13',\n",
       "  'id_14',\n",
       "  'id_17',\n",
       "  'id_18',\n",
       "  'id_19',\n",
       "  'id_20',\n",
       "  'id_21',\n",
       "  'id_22',\n",
       "  'id_24',\n",
       "  'id_25',\n",
       "  'id_26',\n",
       "  'id_32',\n",
       "  'id_34',\n",
       "  'id_30_val',\n",
       "  'id_31_val',\n",
       "  'id_33_val',\n",
       "  'id_12_Found',\n",
       "  'id_12_NotFound',\n",
       "  'id_12_missing',\n",
       "  'id_15_Found',\n",
       "  'id_15_New',\n",
       "  'id_15_Unknown',\n",
       "  'id_15_missing',\n",
       "  'id_16_Found',\n",
       "  'id_16_NotFound',\n",
       "  'id_16_missing',\n",
       "  'id_27_Found',\n",
       "  'id_27_NotFound',\n",
       "  'id_27_missing',\n",
       "  'id_28_Found',\n",
       "  'id_28_New',\n",
       "  'id_28_missing',\n",
       "  'id_29_Found',\n",
       "  'id_29_NotFound',\n",
       "  'id_29_missing',\n",
       "  'id_35_F',\n",
       "  'id_35_T',\n",
       "  'id_35_missing',\n",
       "  'id_36_F',\n",
       "  'id_36_T',\n",
       "  'id_36_missing',\n",
       "  'id_37_F',\n",
       "  'id_37_T',\n",
       "  'id_37_missing',\n",
       "  'id_38_F',\n",
       "  'id_38_T',\n",
       "  'id_38_missing',\n",
       "  'id_23_IP_PROXY:ANONYMOUS',\n",
       "  'id_23_IP_PROXY:HIDDEN',\n",
       "  'id_23_IP_PROXY:TRANSPARENT',\n",
       "  'id_23_missing']]"
      ]
     },
     "execution_count": 17,
     "metadata": {},
     "output_type": "execute_result"
    }
   ],
   "source": [
    "columns_for_process"
   ]
  },
  {
   "cell_type": "code",
   "execution_count": 29,
   "id": "5f135370-0069-41af-b5ea-366e007bc5cf",
   "metadata": {
    "tags": []
   },
   "outputs": [],
   "source": [
    "numeric_cols_for_train = ['card2','card3','card5','addr1','addr2','dist1','dist2','D1', 'D3', 'D4', 'D5', 'D8', 'D9', 'D10', 'D11', 'D13', 'D14', 'D15','V1',\n",
    "  'V2',\n",
    "  'V3',\n",
    "  'V4',\n",
    "  'V6',\n",
    "  'V7',\n",
    "  'V8',\n",
    "  'V10',\n",
    "  'V12',\n",
    "  'V14',\n",
    "  'V15',\n",
    "  'V19',\n",
    "  'V23',\n",
    "  'V25',\n",
    "  'V27',\n",
    "  'V35',\n",
    "  'V37',\n",
    "  'V44',\n",
    "  'V46',\n",
    "  'V47',\n",
    "  'V53',\n",
    "  'V55',\n",
    "  'V56',\n",
    "  'V61',\n",
    "  'V66',\n",
    "  'V75',\n",
    "  'V77',\n",
    "  'V78',\n",
    "  'V82',\n",
    "  'V86',\n",
    "  'V95',\n",
    "  'V98',\n",
    "  'V99',\n",
    "  'V104',\n",
    "  'V107',\n",
    "  'V108',\n",
    "  'V109',\n",
    "  'V111',\n",
    "  'V112',\n",
    "  'V114',\n",
    "  'V115',\n",
    "  'V117',\n",
    "  'V118',\n",
    "  'V120',\n",
    "  'V121',\n",
    "  'V122',\n",
    "  'V123',\n",
    "  'V124',\n",
    "  'V129',\n",
    "  'V130',\n",
    "  'V131',\n",
    "  'V135',\n",
    "  'V136',\n",
    "  'V138',\n",
    "  'V139',\n",
    "  'V141',\n",
    "  'V144',\n",
    "  'V146',\n",
    "  'V148',\n",
    "  'V161',\n",
    "  'V166',\n",
    "  'V169',\n",
    "  'V170',\n",
    "  'V171',\n",
    "  'V172',\n",
    "  'V173',\n",
    "  'V174',\n",
    "  'V175',\n",
    "  'V176',\n",
    "  'V184',\n",
    "  'V187',\n",
    "  'V188',\n",
    "  'V194',\n",
    "  'V205',\n",
    "  'V208',\n",
    "  'V209',\n",
    "  'V210',\n",
    "  'V214',\n",
    "  'V215',\n",
    "  'V220',\n",
    "  'V221',\n",
    "  'V223',\n",
    "  'V224',\n",
    "  'V226',\n",
    "  'V227',\n",
    "  'V238',\n",
    "  'V240',\n",
    "  'V241',\n",
    "  'V250',\n",
    "  'V260',\n",
    "  'V270',\n",
    "  'V281',\n",
    "  'V282',\n",
    "  'V283',\n",
    "  'V284',\n",
    "  'V286',\n",
    "  'V288',\n",
    "  'V290',\n",
    "  'V291',\n",
    "  'V300',\n",
    "  'V305',\n",
    "  'V313',\n",
    "  'V314',\n",
    "  'id_01',                        \n",
    "  'id_02',                         \n",
    "  'id_03',                         \n",
    "  'id_04',                         \n",
    "  'id_05',                        \n",
    "  'id_06',                      \n",
    "  'id_07',                         \n",
    "  'id_08',                      \n",
    "  'id_09',                       \n",
    "  'id_10',                         \n",
    "  'id_11',                         \n",
    "  'id_13',                         \n",
    "  'id_14',                         \n",
    "  'id_17',                         \n",
    "  'id_18',                         \n",
    "  'id_19',                         \n",
    "  'id_20',                         \n",
    "  'id_21',                         \n",
    "  'id_22',                         \n",
    "  'id_24',                         \n",
    "  'id_25',                         \n",
    "  'id_26',                         \n",
    "  'id_32',                         \n",
    "  'id_34',                         \n",
    "  'id_30_val',                     \n",
    " 'id_31_val',                     \n",
    "'id_33_val',\n",
    "'P_emaildomain_val',            \n",
    "'R_emaildomain_val']"
   ]
  },
  {
   "cell_type": "code",
   "execution_count": 31,
   "id": "6248312a-5b0d-40b4-b54a-05b5f3dfdb99",
   "metadata": {
    "tags": []
   },
   "outputs": [],
   "source": [
    "train_data2 = preprocess_numeric(train_data,numeric_cols_for_train)"
   ]
  },
  {
   "cell_type": "code",
   "execution_count": 33,
   "id": "c2f0c8b2-93a9-4b91-ab77-da47b67a455d",
   "metadata": {
    "tags": []
   },
   "outputs": [
    {
     "data": {
      "text/plain": [
       "(590540, 222)"
      ]
     },
     "execution_count": 33,
     "metadata": {},
     "output_type": "execute_result"
    }
   ],
   "source": [
    "train_data2.shape"
   ]
  },
  {
   "cell_type": "code",
   "execution_count": 39,
   "id": "7d6d761c-7ac9-4ea3-886a-92c011dd7288",
   "metadata": {
    "tags": []
   },
   "outputs": [],
   "source": [
    "from sklearn.metrics import ConfusionMatrixDisplay,classification_report,accuracy_score,roc_auc_score,average_precision_score,f1_score"
   ]
  },
  {
   "cell_type": "code",
   "execution_count": 40,
   "id": "8df65cf9-76f8-40a8-9c0e-199189421837",
   "metadata": {
    "tags": []
   },
   "outputs": [],
   "source": [
    "from sklearn.model_selection import train_test_split,StratifiedKFold,cross_val_score"
   ]
  },
  {
   "cell_type": "code",
   "execution_count": 41,
   "id": "a2ee85fc-ccd4-4fdc-a72c-abfcfb04c54c",
   "metadata": {
    "tags": []
   },
   "outputs": [],
   "source": [
    "def model_results(X_train, y_train, X_test, y_test, model):\n",
    "    # Fit the training model to the training set\n",
    "    model.fit(X_train, y_train)\n",
    "    \n",
    "    # Obtain the predicted values and probabilities from the model \n",
    "    predicted = model.predict(X_test)\n",
    "    probs = model.predict_proba(X_test)\n",
    "    \n",
    "    # Print the accuracy and roc_auc_score performance metric\n",
    "    print(\"Accuracy: \", accuracy_score(y_test, predicted))\n",
    "    print(\"AUC: \", roc_auc_score(y_test, probs[:,1]))\n",
    "    print(\"-----\")\n",
    "    # Print the classification report and confusion matrix\n",
    "    print (ConfusionMatrixDisplay.from_predictions(y_test, predicted))\n",
    "    print (classification_report(y_test, predicted))"
   ]
  },
  {
   "cell_type": "code",
   "execution_count": 42,
   "id": "b0f7ab66-04ba-4279-a9a5-fba7a39a19e0",
   "metadata": {
    "tags": []
   },
   "outputs": [],
   "source": [
    "def stratified_kfold_results(X, y, model, n_splits=5):\n",
    "    \n",
    "    skf = StratifiedKFold(n_splits=n_splits, shuffle=True, random_state=42)\n",
    "    \n",
    "    accuracies = []\n",
    "    aucs = []\n",
    "    f1_scores = []\n",
    "    pr_auc_scores = []\n",
    "    \n",
    "    fold = 1\n",
    "    for train_index, val_index in skf.split(X, y):\n",
    "        X_train_fold, X_val_fold = X.iloc[train_index], X.iloc[val_index]\n",
    "        y_train_fold, y_val_fold = y.iloc[train_index], y.iloc[val_index]\n",
    "        \n",
    "        model.fit(X_train_fold, y_train_fold)\n",
    "        preds = model.predict(X_val_fold)\n",
    "        probs = model.predict_proba(X_val_fold)[:, 1]\n",
    "        \n",
    "        acc = accuracy_score(y_val_fold, preds)\n",
    "        auc = roc_auc_score(y_val_fold, probs)\n",
    "        f1 = f1_score(y_val_fold, preds)\n",
    "        pr_auc = average_precision_score(y_val_fold,probs)\n",
    "        \n",
    "        accuracies.append(acc)\n",
    "        aucs.append(auc)\n",
    "        f1_scores.append(f1)\n",
    "        pr_auc_scores.append(pr_auc)\n",
    "\n",
    "        print(f\"--- Fold {fold} ---\")\n",
    "        print(f\"Accuracy: {acc:.4f}\")\n",
    "        print(f\"ROC-AUC:  {auc:.4f}\")\n",
    "        print(f\"F1-score: {f1:.4f}\")\n",
    "        print(f\"PR-AUC: {pr_auc:.4f}\")\n",
    "        print(classification_report(y_val_fold, preds))\n",
    "        fold += 1\n",
    "\n",
    "    print(\"========== AVERAGED METRICS ==========\")\n",
    "    print(f\"Mean Accuracy: {np.mean(accuracies):.4f}\")\n",
    "    print(f\"Mean ROC-AUC:  {np.mean(aucs):.4f}\")\n",
    "    print(f\"Mean F1-score: {np.mean(f1_scores):.4f}\")\n",
    "    print(f\"Mean PR_AUC_score: {np.mean(pr_auc_scores):.4f}\")\n"
   ]
  },
  {
   "cell_type": "code",
   "execution_count": 43,
   "id": "86ebe6e6-9558-475f-88a5-f226f0020525",
   "metadata": {
    "tags": []
   },
   "outputs": [],
   "source": [
    "from sklearn.ensemble import RandomForestClassifier"
   ]
  },
  {
   "cell_type": "code",
   "execution_count": 44,
   "id": "a0312d46-5bd4-4b91-a7ee-8b856ca79b68",
   "metadata": {
    "tags": []
   },
   "outputs": [],
   "source": [
    "X = train_data2.drop('isFraud',axis=1)"
   ]
  },
  {
   "cell_type": "code",
   "execution_count": 45,
   "id": "e429ff02-9688-42d1-96ff-f0d43f55c1d8",
   "metadata": {
    "tags": []
   },
   "outputs": [],
   "source": [
    "y = train_data2['isFraud']"
   ]
  },
  {
   "cell_type": "code",
   "execution_count": 47,
   "id": "0fa18422-a31e-43c2-b118-5529f15720de",
   "metadata": {
    "tags": []
   },
   "outputs": [],
   "source": [
    "random_forest = RandomForestClassifier(n_estimators=128,random_state=101)"
   ]
  },
  {
   "cell_type": "code",
   "execution_count": 48,
   "id": "242c7ed4-cea1-41ad-ae1c-7b2aa4fa667b",
   "metadata": {
    "tags": []
   },
   "outputs": [],
   "source": [
    " X_train, X_test, y_train, y_test = train_test_split(X,y,test_size=0.2, random_state=101)"
   ]
  },
  {
   "cell_type": "code",
   "execution_count": 49,
   "id": "8171f94d-4599-4096-ab4c-8010458dfeec",
   "metadata": {
    "tags": []
   },
   "outputs": [
    {
     "name": "stdout",
     "output_type": "stream",
     "text": [
      "Accuracy:  0.9801029566159786\n",
      "AUC:  0.9396990393365967\n",
      "-----\n",
      "<sklearn.metrics._plot.confusion_matrix.ConfusionMatrixDisplay object at 0x7fbae2dce230>\n",
      "              precision    recall  f1-score   support\n",
      "\n",
      "           0       0.98      1.00      0.99    113957\n",
      "           1       0.95      0.46      0.62      4151\n",
      "\n",
      "    accuracy                           0.98    118108\n",
      "   macro avg       0.97      0.73      0.80    118108\n",
      "weighted avg       0.98      0.98      0.98    118108\n",
      "\n"
     ]
    },
    {
     "data": {
      "image/png": "[encoded data removed]",
      "text/plain": [
       "<Figure size 640x480 with 2 Axes>"
      ]
     },
     "metadata": {},
     "output_type": "display_data"
    }
   ],
   "source": [
    "model_results(X_train,y_train,X_test,y_test,random_forest)"
   ]
  },
  {
   "cell_type": "code",
   "execution_count": 50,
   "id": "3cee14a8-b89b-4aa4-b94e-b25239e51e42",
   "metadata": {
    "tags": []
   },
   "outputs": [],
   "source": [
    "rf = RandomForestClassifier(n_estimators=100,class_weight='balanced',random_state=101,n_jobs=-1)"
   ]
  },
  {
   "cell_type": "code",
   "execution_count": 51,
   "id": "fe71d1f0-9f0b-44b5-98fa-3e13e0d9e307",
   "metadata": {
    "tags": []
   },
   "outputs": [
    {
     "name": "stdout",
     "output_type": "stream",
     "text": [
      "--- Fold 1 ---\n",
      "Accuracy: 0.9789\n",
      "ROC-AUC:  0.9402\n",
      "F1-score: 0.5783\n",
      "PR-AUC: 0.7448\n",
      "              precision    recall  f1-score   support\n",
      "\n",
      "           0       0.98      1.00      0.99     91184\n",
      "           1       0.96      0.41      0.58      3303\n",
      "\n",
      "    accuracy                           0.98     94487\n",
      "   macro avg       0.97      0.71      0.78     94487\n",
      "weighted avg       0.98      0.98      0.97     94487\n",
      "\n",
      "--- Fold 2 ---\n",
      "Accuracy: 0.9794\n",
      "ROC-AUC:  0.9374\n",
      "F1-score: 0.5897\n",
      "PR-AUC: 0.7428\n",
      "              precision    recall  f1-score   support\n",
      "\n",
      "           0       0.98      1.00      0.99     91184\n",
      "           1       0.97      0.42      0.59      3303\n",
      "\n",
      "    accuracy                           0.98     94487\n",
      "   macro avg       0.98      0.71      0.79     94487\n",
      "weighted avg       0.98      0.98      0.98     94487\n",
      "\n",
      "--- Fold 3 ---\n",
      "Accuracy: 0.9788\n",
      "ROC-AUC:  0.9364\n",
      "F1-score: 0.5741\n",
      "PR-AUC: 0.7357\n",
      "              precision    recall  f1-score   support\n",
      "\n",
      "           0       0.98      1.00      0.99     91184\n",
      "           1       0.96      0.41      0.57      3302\n",
      "\n",
      "    accuracy                           0.98     94486\n",
      "   macro avg       0.97      0.70      0.78     94486\n",
      "weighted avg       0.98      0.98      0.97     94486\n",
      "\n",
      "--- Fold 4 ---\n",
      "Accuracy: 0.9783\n",
      "ROC-AUC:  0.9357\n",
      "F1-score: 0.5594\n",
      "PR-AUC: 0.7357\n",
      "              precision    recall  f1-score   support\n",
      "\n",
      "           0       0.98      1.00      0.99     91184\n",
      "           1       0.96      0.39      0.56      3302\n",
      "\n",
      "    accuracy                           0.98     94486\n",
      "   macro avg       0.97      0.70      0.77     94486\n",
      "weighted avg       0.98      0.98      0.97     94486\n",
      "\n",
      "--- Fold 5 ---\n",
      "Accuracy: 0.9786\n",
      "ROC-AUC:  0.9370\n",
      "F1-score: 0.5697\n",
      "PR-AUC: 0.7383\n",
      "              precision    recall  f1-score   support\n",
      "\n",
      "           0       0.98      1.00      0.99     91184\n",
      "           1       0.96      0.41      0.57      3302\n",
      "\n",
      "    accuracy                           0.98     94486\n",
      "   macro avg       0.97      0.70      0.78     94486\n",
      "weighted avg       0.98      0.98      0.97     94486\n",
      "\n",
      "========== AVERAGED METRICS ==========\n",
      "Mean Accuracy: 0.9788\n",
      "Mean ROC-AUC:  0.9373\n",
      "Mean F1-score: 0.5743\n",
      "Mean PR_AUC_score: 0.7395\n"
     ]
    }
   ],
   "source": [
    "stratified_kfold_results(X_train,y_train,rf,n_splits=5)"
   ]
  },
  {
   "cell_type": "code",
   "execution_count": 52,
   "id": "07ebdeed-a7ec-468a-814a-fe4be9754d66",
   "metadata": {
    "tags": []
   },
   "outputs": [],
   "source": [
    "from xgboost import XGBClassifier"
   ]
  },
  {
   "cell_type": "code",
   "execution_count": 53,
   "id": "c8f6d0c0-8695-4013-982c-97a45f819552",
   "metadata": {
    "tags": []
   },
   "outputs": [],
   "source": [
    "xg = XGBClassifier(n_estimators=128, max_depth=2, learning_rate=1, objective='binary:logistic',random_state=101)"
   ]
  },
  {
   "cell_type": "code",
   "execution_count": 54,
   "id": "6449a2fe-03f5-4c00-947e-8e1701eba954",
   "metadata": {
    "tags": []
   },
   "outputs": [
    {
     "name": "stdout",
     "output_type": "stream",
     "text": [
      "Accuracy:  0.9744725166796492\n",
      "AUC:  0.880006049947536\n",
      "-----\n",
      "<sklearn.metrics._plot.confusion_matrix.ConfusionMatrixDisplay object at 0x7fbae3023190>\n",
      "              precision    recall  f1-score   support\n",
      "\n",
      "           0       0.98      1.00      0.99    113957\n",
      "           1       0.80      0.36      0.50      4151\n",
      "\n",
      "    accuracy                           0.97    118108\n",
      "   macro avg       0.89      0.68      0.74    118108\n",
      "weighted avg       0.97      0.97      0.97    118108\n",
      "\n"
     ]
    },
    {
     "data": {
      "image/png": "[encoded data removed]",
      "text/plain": [
       "<Figure size 640x480 with 2 Axes>"
      ]
     },
     "metadata": {},
     "output_type": "display_data"
    }
   ],
   "source": [
    "model_results(X_train, y_train, X_test, y_test,xg)"
   ]
  },
  {
   "cell_type": "code",
   "execution_count": 55,
   "id": "cdf54149-542b-4784-9ff8-3b04a74c3e52",
   "metadata": {
    "tags": []
   },
   "outputs": [],
   "source": [
    "neg_count = y.value_counts()[0] \n",
    "pos_count = y.value_counts()[1] \n",
    "scale_pos_weight_value = neg_count / pos_count "
   ]
  },
  {
   "cell_type": "code",
   "execution_count": 56,
   "id": "926f180b-7952-445a-b413-b0538a30e98d",
   "metadata": {
    "tags": []
   },
   "outputs": [
    {
     "name": "stderr",
     "output_type": "stream",
     "text": [
      "/opt/conda/envs/sagemaker-distribution/lib/python3.10/site-packages/xgboost/sklearn.py:1395: UserWarning: `use_label_encoder` is deprecated in 1.7.0.\n",
      "  warnings.warn(\"`use_label_encoder` is deprecated in 1.7.0.\")\n"
     ]
    }
   ],
   "source": [
    "XGB_model = XGBClassifier(n_estimators=200, \n",
    "                          max_depth=5, \n",
    "                          learning_rate=0.1, \n",
    "                          objective='binary:logistic',\n",
    "                          subsample=0.8,\n",
    "                          colsample_bytree=0.8,\n",
    "                          gamma=0.1,\n",
    "                          n_jobs=-1,\n",
    "                          use_label_encoder=False,\n",
    "                          eval_metric='logloss',\n",
    "                          scale_pos_weight=scale_pos_weight_value,\n",
    "                          random_state=101)"
   ]
  },
  {
   "cell_type": "code",
   "execution_count": 57,
   "id": "b1fbea84-e9ee-42cb-b226-3b2ae6af3191",
   "metadata": {
    "tags": []
   },
   "outputs": [
    {
     "name": "stdout",
     "output_type": "stream",
     "text": [
      "--- Fold 1 ---\n",
      "Accuracy: 0.8852\n",
      "ROC-AUC:  0.9222\n",
      "F1-score: 0.3279\n",
      "PR-AUC: 0.6025\n",
      "              precision    recall  f1-score   support\n",
      "\n",
      "           0       0.99      0.89      0.94    113976\n",
      "           1       0.21      0.80      0.33      4132\n",
      "\n",
      "    accuracy                           0.89    118108\n",
      "   macro avg       0.60      0.84      0.63    118108\n",
      "weighted avg       0.96      0.89      0.92    118108\n",
      "\n",
      "--- Fold 2 ---\n",
      "Accuracy: 0.8835\n",
      "ROC-AUC:  0.9247\n",
      "F1-score: 0.3281\n",
      "PR-AUC: 0.6081\n",
      "              precision    recall  f1-score   support\n",
      "\n",
      "           0       0.99      0.89      0.94    113976\n",
      "           1       0.21      0.81      0.33      4132\n",
      "\n",
      "    accuracy                           0.88    118108\n",
      "   macro avg       0.60      0.85      0.63    118108\n",
      "weighted avg       0.96      0.88      0.91    118108\n",
      "\n",
      "--- Fold 3 ---\n",
      "Accuracy: 0.8869\n",
      "ROC-AUC:  0.9222\n",
      "F1-score: 0.3303\n",
      "PR-AUC: 0.6076\n",
      "              precision    recall  f1-score   support\n",
      "\n",
      "           0       0.99      0.89      0.94    113975\n",
      "           1       0.21      0.80      0.33      4133\n",
      "\n",
      "    accuracy                           0.89    118108\n",
      "   macro avg       0.60      0.84      0.63    118108\n",
      "weighted avg       0.96      0.89      0.92    118108\n",
      "\n",
      "--- Fold 4 ---\n",
      "Accuracy: 0.8872\n",
      "ROC-AUC:  0.9219\n",
      "F1-score: 0.3303\n",
      "PR-AUC: 0.5961\n",
      "              precision    recall  f1-score   support\n",
      "\n",
      "           0       0.99      0.89      0.94    113975\n",
      "           1       0.21      0.79      0.33      4133\n",
      "\n",
      "    accuracy                           0.89    118108\n",
      "   macro avg       0.60      0.84      0.63    118108\n",
      "weighted avg       0.96      0.89      0.92    118108\n",
      "\n",
      "--- Fold 5 ---\n",
      "Accuracy: 0.8894\n",
      "ROC-AUC:  0.9243\n",
      "F1-score: 0.3359\n",
      "PR-AUC: 0.5955\n",
      "              precision    recall  f1-score   support\n",
      "\n",
      "           0       0.99      0.89      0.94    113975\n",
      "           1       0.21      0.80      0.34      4133\n",
      "\n",
      "    accuracy                           0.89    118108\n",
      "   macro avg       0.60      0.85      0.64    118108\n",
      "weighted avg       0.96      0.89      0.92    118108\n",
      "\n",
      "========== AVERAGED METRICS ==========\n",
      "Mean Accuracy: 0.8864\n",
      "Mean ROC-AUC:  0.9231\n",
      "Mean F1-score: 0.3305\n",
      "Mean PR_AUC_score: 0.6020\n"
     ]
    }
   ],
   "source": [
    "stratified_kfold_results(X, y, XGB_model, n_splits=5)"
   ]
  },
  {
   "cell_type": "code",
   "execution_count": 58,
   "id": "a6c58cc0-2898-4e91-a9b3-f73660b3b277",
   "metadata": {
    "tags": []
   },
   "outputs": [
    {
     "name": "stderr",
     "output_type": "stream",
     "text": [
      "/opt/conda/envs/sagemaker-distribution/lib/python3.10/site-packages/dask/dataframe/__init__.py:31: FutureWarning: \n",
      "Dask dataframe query planning is disabled because dask-expr is not installed.\n",
      "\n",
      "You can install it with `pip install dask[dataframe]` or `conda install dask`.\n",
      "This will raise in a future version.\n",
      "\n",
      "  warnings.warn(msg, FutureWarning)\n"
     ]
    }
   ],
   "source": [
    "import lightgbm as lgb"
   ]
  },
  {
   "cell_type": "code",
   "execution_count": 59,
   "id": "f20d5e1c-a5c4-4372-8404-6f82cd754625",
   "metadata": {
    "tags": []
   },
   "outputs": [],
   "source": [
    "def clean_column_names(df):\n",
    "    df.columns = df.columns.str.replace('[^A-Za-z0-9_]', '_', regex=True)\n",
    "    return df"
   ]
  },
  {
   "cell_type": "code",
   "execution_count": 60,
   "id": "43820a98-7b23-4808-b931-18616e0b2f23",
   "metadata": {
    "tags": []
   },
   "outputs": [],
   "source": [
    "lgb_model = lgb.LGBMClassifier(objective='binary',n_estimators=128,learning_rate=0.1,num_leaves=31,is_unbalance=True)"
   ]
  },
  {
   "cell_type": "code",
   "execution_count": 61,
   "id": "6eec2b58-6916-461c-8e6b-db42eea56441",
   "metadata": {
    "tags": []
   },
   "outputs": [],
   "source": [
    "X_cleaned = clean_column_names(train_data2)"
   ]
  },
  {
   "cell_type": "code",
   "execution_count": 62,
   "id": "a15cce62-65c3-4151-911b-bf8a34669602",
   "metadata": {
    "tags": []
   },
   "outputs": [],
   "source": [
    "X_1 = X_cleaned.drop('isFraud',axis=1)"
   ]
  },
  {
   "cell_type": "code",
   "execution_count": 63,
   "id": "58e23d24-31a9-4cd5-8b6b-f09bfae3d35e",
   "metadata": {
    "tags": []
   },
   "outputs": [],
   "source": [
    "y_1 = X_cleaned['isFraud']"
   ]
  },
  {
   "cell_type": "code",
   "execution_count": 64,
   "id": "3282b8cb-46ee-46e5-a154-f4e923ab9253",
   "metadata": {
    "tags": []
   },
   "outputs": [],
   "source": [
    "X_train_cleaned, X_test_cleaned, y_train_cleaned, y_test_cleaned = train_test_split(X_1,y_1,test_size=0.2, random_state=101)"
   ]
  },
  {
   "cell_type": "code",
   "execution_count": 65,
   "id": "581df4a1-807a-4f07-b81e-42b3e91ad67e",
   "metadata": {
    "tags": []
   },
   "outputs": [
    {
     "name": "stdout",
     "output_type": "stream",
     "text": [
      "Accuracy:  0.8745724252379178\n",
      "AUC:  0.9278441871806464\n",
      "-----\n",
      "<sklearn.metrics._plot.confusion_matrix.ConfusionMatrixDisplay object at 0x7fbadea417b0>\n",
      "              precision    recall  f1-score   support\n",
      "\n",
      "           0       0.99      0.88      0.93    113957\n",
      "           1       0.19      0.82      0.31      4151\n",
      "\n",
      "    accuracy                           0.87    118108\n",
      "   macro avg       0.59      0.85      0.62    118108\n",
      "weighted avg       0.96      0.87      0.91    118108\n",
      "\n"
     ]
    },
    {
     "data": {
      "image/png": "[encoded data removed]",
      "text/plain": [
       "<Figure size 640x480 with 2 Axes>"
      ]
     },
     "metadata": {},
     "output_type": "display_data"
    }
   ],
   "source": [
    "model_results(X_train_cleaned, y_train_cleaned, X_test_cleaned, y_test_cleaned,lgb_model)"
   ]
  },
  {
   "cell_type": "code",
   "execution_count": 66,
   "id": "5c927465-80c7-47a9-8bb5-fcd6c01c571f",
   "metadata": {
    "tags": []
   },
   "outputs": [],
   "source": [
    "lgb_model_kfold = lgb.LGBMClassifier(objective='binary',n_estimators=128,learning_rate=0.1,num_leaves=31,is_unbalance=True,max_depth=6)"
   ]
  },
  {
   "cell_type": "code",
   "execution_count": 67,
   "id": "ba07ce4b-a506-4902-ac8c-337b6c2b5346",
   "metadata": {
    "tags": []
   },
   "outputs": [
    {
     "name": "stdout",
     "output_type": "stream",
     "text": [
      "--- Fold 1 ---\n",
      "Accuracy: 0.8723\n",
      "ROC-AUC:  0.9150\n",
      "F1-score: 0.3027\n",
      "PR-AUC: 0.5853\n",
      "              precision    recall  f1-score   support\n",
      "\n",
      "           0       0.99      0.88      0.93    113976\n",
      "           1       0.19      0.79      0.30      4132\n",
      "\n",
      "    accuracy                           0.87    118108\n",
      "   macro avg       0.59      0.83      0.62    118108\n",
      "weighted avg       0.96      0.87      0.91    118108\n",
      "\n",
      "--- Fold 2 ---\n",
      "Accuracy: 0.8728\n",
      "ROC-AUC:  0.9180\n",
      "F1-score: 0.3067\n",
      "PR-AUC: 0.5870\n",
      "              precision    recall  f1-score   support\n",
      "\n",
      "           0       0.99      0.88      0.93    113976\n",
      "           1       0.19      0.80      0.31      4132\n",
      "\n",
      "    accuracy                           0.87    118108\n",
      "   macro avg       0.59      0.84      0.62    118108\n",
      "weighted avg       0.96      0.87      0.91    118108\n",
      "\n",
      "--- Fold 3 ---\n",
      "Accuracy: 0.8762\n",
      "ROC-AUC:  0.9151\n",
      "F1-score: 0.3101\n",
      "PR-AUC: 0.5862\n",
      "              precision    recall  f1-score   support\n",
      "\n",
      "           0       0.99      0.88      0.93    113975\n",
      "           1       0.19      0.80      0.31      4133\n",
      "\n",
      "    accuracy                           0.88    118108\n",
      "   macro avg       0.59      0.84      0.62    118108\n",
      "weighted avg       0.96      0.88      0.91    118108\n",
      "\n",
      "--- Fold 4 ---\n",
      "Accuracy: 0.8764\n",
      "ROC-AUC:  0.9147\n",
      "F1-score: 0.3091\n",
      "PR-AUC: 0.5751\n",
      "              precision    recall  f1-score   support\n",
      "\n",
      "           0       0.99      0.88      0.93    113975\n",
      "           1       0.19      0.79      0.31      4133\n",
      "\n",
      "    accuracy                           0.88    118108\n",
      "   macro avg       0.59      0.83      0.62    118108\n",
      "weighted avg       0.96      0.88      0.91    118108\n",
      "\n",
      "--- Fold 5 ---\n",
      "Accuracy: 0.8769\n",
      "ROC-AUC:  0.9164\n",
      "F1-score: 0.3096\n",
      "PR-AUC: 0.5757\n",
      "              precision    recall  f1-score   support\n",
      "\n",
      "           0       0.99      0.88      0.93    113975\n",
      "           1       0.19      0.79      0.31      4133\n",
      "\n",
      "    accuracy                           0.88    118108\n",
      "   macro avg       0.59      0.83      0.62    118108\n",
      "weighted avg       0.96      0.88      0.91    118108\n",
      "\n",
      "========== AVERAGED METRICS ==========\n",
      "Mean Accuracy: 0.8749\n",
      "Mean ROC-AUC:  0.9158\n",
      "Mean F1-score: 0.3076\n",
      "Mean PR_AUC_score: 0.5819\n"
     ]
    }
   ],
   "source": [
    "stratified_kfold_results(X_1, y_1, lgb_model_kfold, n_splits=5)"
   ]
  },
  {
   "cell_type": "code",
   "execution_count": null,
   "id": "70ffce66-5dfc-48d7-9f21-6fc1c0c27237",
   "metadata": {},
   "outputs": [],
   "source": []
  }
 ],
 "metadata": {
  "kernelspec": {
   "display_name": "sagemaker-distribution:Python",
   "language": "python",
   "name": "conda-env-sagemaker-distribution-py"
  },
  "language_info": {
   "codemirror_mode": {
    "name": "ipython",
    "version": 3
   },
   "file_extension": ".py",
   "mimetype": "text/x-python",
   "name": "python",
   "nbconvert_exporter": "python",
   "pygments_lexer": "ipython3",
   "version": "3.10.14"
  }
 },
 "nbformat": 4,
 "nbformat_minor": 5
}
